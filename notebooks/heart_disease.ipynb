{
 "cells": [
  {
   "cell_type": "code",
   "execution_count": 54,
   "id": "6948ff5c",
   "metadata": {},
   "outputs": [],
   "source": [
    "# import basic libraries\n",
    "import numpy as np\n",
    "import pandas as pd\n",
    "import matplotlib.pyplot as plt"
   ]
  },
  {
   "cell_type": "code",
   "execution_count": 55,
   "id": "c762a257",
   "metadata": {},
   "outputs": [],
   "source": [
    "# import the dataset\n",
    "df = pd.read_csv('heart.csv')"
   ]
  },
  {
   "cell_type": "code",
   "execution_count": 56,
   "id": "9eaa44b4",
   "metadata": {},
   "outputs": [
    {
     "data": {
      "text/html": [
       "<div>\n",
       "<style scoped>\n",
       "    .dataframe tbody tr th:only-of-type {\n",
       "        vertical-align: middle;\n",
       "    }\n",
       "\n",
       "    .dataframe tbody tr th {\n",
       "        vertical-align: top;\n",
       "    }\n",
       "\n",
       "    .dataframe thead th {\n",
       "        text-align: right;\n",
       "    }\n",
       "</style>\n",
       "<table border=\"1\" class=\"dataframe\">\n",
       "  <thead>\n",
       "    <tr style=\"text-align: right;\">\n",
       "      <th></th>\n",
       "      <th>age</th>\n",
       "      <th>sex</th>\n",
       "      <th>cp</th>\n",
       "      <th>trestbps</th>\n",
       "      <th>chol</th>\n",
       "      <th>fbs</th>\n",
       "      <th>restecg</th>\n",
       "      <th>thalach</th>\n",
       "      <th>exang</th>\n",
       "      <th>oldpeak</th>\n",
       "      <th>slope</th>\n",
       "      <th>ca</th>\n",
       "      <th>thal</th>\n",
       "      <th>target</th>\n",
       "    </tr>\n",
       "  </thead>\n",
       "  <tbody>\n",
       "    <tr>\n",
       "      <th>0</th>\n",
       "      <td>52</td>\n",
       "      <td>1</td>\n",
       "      <td>0</td>\n",
       "      <td>125</td>\n",
       "      <td>212</td>\n",
       "      <td>0</td>\n",
       "      <td>1</td>\n",
       "      <td>168</td>\n",
       "      <td>0</td>\n",
       "      <td>1.0</td>\n",
       "      <td>2</td>\n",
       "      <td>2</td>\n",
       "      <td>3</td>\n",
       "      <td>0</td>\n",
       "    </tr>\n",
       "    <tr>\n",
       "      <th>1</th>\n",
       "      <td>53</td>\n",
       "      <td>1</td>\n",
       "      <td>0</td>\n",
       "      <td>140</td>\n",
       "      <td>203</td>\n",
       "      <td>1</td>\n",
       "      <td>0</td>\n",
       "      <td>155</td>\n",
       "      <td>1</td>\n",
       "      <td>3.1</td>\n",
       "      <td>0</td>\n",
       "      <td>0</td>\n",
       "      <td>3</td>\n",
       "      <td>0</td>\n",
       "    </tr>\n",
       "    <tr>\n",
       "      <th>2</th>\n",
       "      <td>70</td>\n",
       "      <td>1</td>\n",
       "      <td>0</td>\n",
       "      <td>145</td>\n",
       "      <td>174</td>\n",
       "      <td>0</td>\n",
       "      <td>1</td>\n",
       "      <td>125</td>\n",
       "      <td>1</td>\n",
       "      <td>2.6</td>\n",
       "      <td>0</td>\n",
       "      <td>0</td>\n",
       "      <td>3</td>\n",
       "      <td>0</td>\n",
       "    </tr>\n",
       "    <tr>\n",
       "      <th>3</th>\n",
       "      <td>61</td>\n",
       "      <td>1</td>\n",
       "      <td>0</td>\n",
       "      <td>148</td>\n",
       "      <td>203</td>\n",
       "      <td>0</td>\n",
       "      <td>1</td>\n",
       "      <td>161</td>\n",
       "      <td>0</td>\n",
       "      <td>0.0</td>\n",
       "      <td>2</td>\n",
       "      <td>1</td>\n",
       "      <td>3</td>\n",
       "      <td>0</td>\n",
       "    </tr>\n",
       "    <tr>\n",
       "      <th>4</th>\n",
       "      <td>62</td>\n",
       "      <td>0</td>\n",
       "      <td>0</td>\n",
       "      <td>138</td>\n",
       "      <td>294</td>\n",
       "      <td>1</td>\n",
       "      <td>1</td>\n",
       "      <td>106</td>\n",
       "      <td>0</td>\n",
       "      <td>1.9</td>\n",
       "      <td>1</td>\n",
       "      <td>3</td>\n",
       "      <td>2</td>\n",
       "      <td>0</td>\n",
       "    </tr>\n",
       "  </tbody>\n",
       "</table>\n",
       "</div>"
      ],
      "text/plain": [
       "   age  sex  cp  trestbps  chol  fbs  restecg  thalach  exang  oldpeak  slope  \\\n",
       "0   52    1   0       125   212    0        1      168      0      1.0      2   \n",
       "1   53    1   0       140   203    1        0      155      1      3.1      0   \n",
       "2   70    1   0       145   174    0        1      125      1      2.6      0   \n",
       "3   61    1   0       148   203    0        1      161      0      0.0      2   \n",
       "4   62    0   0       138   294    1        1      106      0      1.9      1   \n",
       "\n",
       "   ca  thal  target  \n",
       "0   2     3       0  \n",
       "1   0     3       0  \n",
       "2   0     3       0  \n",
       "3   1     3       0  \n",
       "4   3     2       0  "
      ]
     },
     "execution_count": 56,
     "metadata": {},
     "output_type": "execute_result"
    }
   ],
   "source": [
    "df.head()"
   ]
  },
  {
   "cell_type": "markdown",
   "id": "6b86624e",
   "metadata": {},
   "source": [
    "# Preprocessing"
   ]
  },
  {
   "cell_type": "code",
   "execution_count": 57,
   "id": "72fe972c",
   "metadata": {},
   "outputs": [
    {
     "data": {
      "text/plain": [
       "age         0\n",
       "sex         0\n",
       "cp          0\n",
       "trestbps    0\n",
       "chol        0\n",
       "fbs         0\n",
       "restecg     0\n",
       "thalach     0\n",
       "exang       0\n",
       "oldpeak     0\n",
       "slope       0\n",
       "ca          0\n",
       "thal        0\n",
       "target      0\n",
       "dtype: int64"
      ]
     },
     "execution_count": 57,
     "metadata": {},
     "output_type": "execute_result"
    }
   ],
   "source": [
    "df.isna().sum()"
   ]
  },
  {
   "cell_type": "code",
   "execution_count": 58,
   "id": "24eb02e2",
   "metadata": {},
   "outputs": [],
   "source": [
    "# creating train, dev set\n",
    "train = df.loc[:900] # trainig set\n",
    "dev = df.loc[901:] # development set to test overfitting"
   ]
  },
  {
   "cell_type": "code",
   "execution_count": 59,
   "id": "43dd0a80",
   "metadata": {},
   "outputs": [
    {
     "data": {
      "text/plain": [
       "((901, 14), (124, 14))"
      ]
     },
     "execution_count": 59,
     "metadata": {},
     "output_type": "execute_result"
    }
   ],
   "source": [
    "train.shape, dev.shape"
   ]
  },
  {
   "cell_type": "code",
   "execution_count": 60,
   "id": "89a5e66a",
   "metadata": {},
   "outputs": [
    {
     "data": {
      "text/plain": [
       "target\n",
       "1    464\n",
       "0    437\n",
       "Name: count, dtype: int64"
      ]
     },
     "execution_count": 60,
     "metadata": {},
     "output_type": "execute_result"
    }
   ],
   "source": [
    "train.target.value_counts()"
   ]
  },
  {
   "cell_type": "code",
   "execution_count": 61,
   "id": "738e6c21",
   "metadata": {},
   "outputs": [
    {
     "data": {
      "text/plain": [
       "target\n",
       "1    62\n",
       "0    62\n",
       "Name: count, dtype: int64"
      ]
     },
     "execution_count": 61,
     "metadata": {},
     "output_type": "execute_result"
    }
   ],
   "source": [
    "dev.target.value_counts()"
   ]
  },
  {
   "cell_type": "code",
   "execution_count": 62,
   "id": "b7179fd7",
   "metadata": {},
   "outputs": [],
   "source": [
    "# creating dependent and independent matrix of features\n",
    "x = train.iloc[:, :-1]\n",
    "y = train.iloc[:, -1]"
   ]
  },
  {
   "cell_type": "markdown",
   "id": "210ca3f4",
   "metadata": {},
   "source": [
    "# Modeling"
   ]
  },
  {
   "cell_type": "code",
   "execution_count": 63,
   "id": "a4fadc67",
   "metadata": {},
   "outputs": [],
   "source": [
    "# create training and test sets\n",
    "from sklearn.model_selection import train_test_split\n",
    "x_train,x_test,y_train,y_test = train_test_split(x,y, test_size = 0.25, random_state = 31)"
   ]
  },
  {
   "cell_type": "code",
   "execution_count": 64,
   "id": "53c0ca90",
   "metadata": {},
   "outputs": [
    {
     "data": {
      "text/plain": [
       "(675, 226, 675, 226)"
      ]
     },
     "execution_count": 64,
     "metadata": {},
     "output_type": "execute_result"
    }
   ],
   "source": [
    "len(x_train), len(x_test), len(y_train), len(y_test)"
   ]
  },
  {
   "cell_type": "code",
   "execution_count": 65,
   "id": "b86a23b3",
   "metadata": {},
   "outputs": [
    {
     "data": {
      "text/plain": [
       "(675, 13)"
      ]
     },
     "execution_count": 65,
     "metadata": {},
     "output_type": "execute_result"
    }
   ],
   "source": [
    "x_train.shape"
   ]
  },
  {
   "cell_type": "markdown",
   "id": "17246205",
   "metadata": {},
   "source": [
    "# Logistic Regression\n",
    "\n",
    "### Train set"
   ]
  },
  {
   "cell_type": "code",
   "execution_count": 66,
   "id": "b8ed1bfd",
   "metadata": {},
   "outputs": [
    {
     "name": "stdout",
     "output_type": "stream",
     "text": [
      "0.8938053097345132\n"
     ]
    }
   ],
   "source": [
    "from sklearn.linear_model import LogisticRegression\n",
    "log_clf = LogisticRegression(max_iter = 1000, random_state = 31)\n",
    "log_clf.fit(x_train, y_train)\n",
    "print(log_clf.score(x_test, y_test))"
   ]
  },
  {
   "cell_type": "code",
   "execution_count": 67,
   "id": "64860ca4",
   "metadata": {},
   "outputs": [
    {
     "name": "stdout",
     "output_type": "stream",
     "text": [
      "              precision    recall  f1-score   support\n",
      "\n",
      "           0       0.89      0.87      0.88       100\n",
      "           1       0.90      0.91      0.91       126\n",
      "\n",
      "    accuracy                           0.89       226\n",
      "   macro avg       0.89      0.89      0.89       226\n",
      "weighted avg       0.89      0.89      0.89       226\n",
      "\n"
     ]
    }
   ],
   "source": [
    "from sklearn.metrics import classification_report\n",
    "y_preds = log_clf.predict(x_test)\n",
    "print(classification_report(y_test, y_preds))"
   ]
  },
  {
   "cell_type": "code",
   "execution_count": 68,
   "id": "1ab545e6",
   "metadata": {},
   "outputs": [
    {
     "name": "stdout",
     "output_type": "stream",
     "text": [
      "[[ 87  13]\n",
      " [ 11 115]]\n"
     ]
    }
   ],
   "source": [
    "# confusion matrix\n",
    "from sklearn.metrics import confusion_matrix\n",
    "conf_class=confusion_matrix(y_test,y_preds)\n",
    "print(conf_class)"
   ]
  },
  {
   "cell_type": "code",
   "execution_count": null,
   "id": "81892dc6",
   "metadata": {},
   "outputs": [],
   "source": []
  },
  {
   "cell_type": "markdown",
   "id": "e7962716",
   "metadata": {},
   "source": [
    "### dev set (to test overfitting)"
   ]
  },
  {
   "cell_type": "code",
   "execution_count": 69,
   "id": "f8bf8666",
   "metadata": {},
   "outputs": [],
   "source": [
    "devx = dev.drop('target', axis = 1)\n",
    "devy = dev['target']"
   ]
  },
  {
   "cell_type": "code",
   "execution_count": 70,
   "id": "0cfb3069",
   "metadata": {},
   "outputs": [
    {
     "data": {
      "text/plain": [
       "0.782258064516129"
      ]
     },
     "execution_count": 70,
     "metadata": {},
     "output_type": "execute_result"
    }
   ],
   "source": [
    "dev_preds = log_clf.predict(devx)\n",
    "log_clf.score(devx, devy)"
   ]
  },
  {
   "cell_type": "code",
   "execution_count": 71,
   "id": "3c7f14b3",
   "metadata": {},
   "outputs": [
    {
     "name": "stdout",
     "output_type": "stream",
     "text": [
      "              precision    recall  f1-score   support\n",
      "\n",
      "           0       0.82      0.73      0.77        62\n",
      "           1       0.75      0.84      0.79        62\n",
      "\n",
      "    accuracy                           0.78       124\n",
      "   macro avg       0.79      0.78      0.78       124\n",
      "weighted avg       0.79      0.78      0.78       124\n",
      "\n"
     ]
    }
   ],
   "source": [
    "print(classification_report(devy, dev_preds))"
   ]
  },
  {
   "cell_type": "markdown",
   "id": "26f311cb",
   "metadata": {},
   "source": [
    "# KNN\n",
    "\n",
    "### Train set"
   ]
  },
  {
   "cell_type": "code",
   "execution_count": 72,
   "id": "01f55a40",
   "metadata": {},
   "outputs": [
    {
     "name": "stdout",
     "output_type": "stream",
     "text": [
      "0.8805309734513275\n"
     ]
    }
   ],
   "source": [
    "from sklearn.neighbors import KNeighborsClassifier\n",
    "\n",
    "# Parameters taken from grid search best params.\n",
    "knn_clf = KNeighborsClassifier(algorithm = 'auto',\n",
    "                               leaf_size = 10,\n",
    "                               n_neighbors = 2,\n",
    "                               p = 2)\n",
    "knn_clf.fit(x_train, y_train)\n",
    "print(knn_clf.score(x_test, y_test))"
   ]
  },
  {
   "cell_type": "code",
   "execution_count": 73,
   "id": "112b1b6b",
   "metadata": {},
   "outputs": [
    {
     "name": "stdout",
     "output_type": "stream",
     "text": [
      "              precision    recall  f1-score   support\n",
      "\n",
      "           0       0.79      0.99      0.88       100\n",
      "           1       0.99      0.79      0.88       126\n",
      "\n",
      "    accuracy                           0.88       226\n",
      "   macro avg       0.89      0.89      0.88       226\n",
      "weighted avg       0.90      0.88      0.88       226\n",
      "\n"
     ]
    }
   ],
   "source": [
    "y_preds = knn_clf.predict(x_test)\n",
    "print(classification_report(y_test, y_preds))"
   ]
  },
  {
   "cell_type": "markdown",
   "id": "4a184468",
   "metadata": {},
   "source": [
    "### dev set (to test overfitting)"
   ]
  },
  {
   "cell_type": "code",
   "execution_count": 74,
   "id": "343fda41",
   "metadata": {},
   "outputs": [
    {
     "data": {
      "text/plain": [
       "0.8790322580645161"
      ]
     },
     "execution_count": 74,
     "metadata": {},
     "output_type": "execute_result"
    }
   ],
   "source": [
    "dev_preds = knn_clf.predict(devx)\n",
    "knn_clf.score(devx, devy)"
   ]
  },
  {
   "cell_type": "code",
   "execution_count": 75,
   "id": "521a43da",
   "metadata": {},
   "outputs": [
    {
     "name": "stdout",
     "output_type": "stream",
     "text": [
      "              precision    recall  f1-score   support\n",
      "\n",
      "           0       0.82      0.97      0.89        62\n",
      "           1       0.96      0.79      0.87        62\n",
      "\n",
      "    accuracy                           0.88       124\n",
      "   macro avg       0.89      0.88      0.88       124\n",
      "weighted avg       0.89      0.88      0.88       124\n",
      "\n"
     ]
    }
   ],
   "source": [
    "print(classification_report(devy, dev_preds))"
   ]
  },
  {
   "cell_type": "markdown",
   "id": "911677fc",
   "metadata": {},
   "source": [
    "# SVC\n",
    "\n",
    "### Train Set"
   ]
  },
  {
   "cell_type": "code",
   "execution_count": 76,
   "id": "73659526",
   "metadata": {},
   "outputs": [
    {
     "name": "stdout",
     "output_type": "stream",
     "text": [
      "0.7256637168141593\n"
     ]
    }
   ],
   "source": [
    "from sklearn import svm\n",
    "svc_clf = svm.SVC(random_state = 7)\n",
    "svc_clf.fit(x_train, y_train)\n",
    "print(svc_clf.score(x_test, y_test))"
   ]
  },
  {
   "cell_type": "code",
   "execution_count": 77,
   "id": "fc8702bb",
   "metadata": {},
   "outputs": [
    {
     "name": "stdout",
     "output_type": "stream",
     "text": [
      "              precision    recall  f1-score   support\n",
      "\n",
      "           0       0.71      0.65      0.68       100\n",
      "           1       0.74      0.79      0.76       126\n",
      "\n",
      "    accuracy                           0.73       226\n",
      "   macro avg       0.72      0.72      0.72       226\n",
      "weighted avg       0.72      0.73      0.72       226\n",
      "\n"
     ]
    }
   ],
   "source": [
    "y_preds = svc_clf.predict(x_test)\n",
    "print(classification_report(y_test, y_preds))"
   ]
  },
  {
   "cell_type": "markdown",
   "id": "e1d3e9de",
   "metadata": {},
   "source": [
    "### dev set (to test overfitting)"
   ]
  },
  {
   "cell_type": "code",
   "execution_count": 78,
   "id": "ba59323f",
   "metadata": {},
   "outputs": [
    {
     "data": {
      "text/plain": [
       "0.7016129032258065"
      ]
     },
     "execution_count": 78,
     "metadata": {},
     "output_type": "execute_result"
    }
   ],
   "source": [
    "dev_preds = svc_clf.predict(devx)\n",
    "svc_clf.score(devx, devy)"
   ]
  },
  {
   "cell_type": "code",
   "execution_count": 79,
   "id": "0ecaf4f3",
   "metadata": {},
   "outputs": [
    {
     "name": "stdout",
     "output_type": "stream",
     "text": [
      "              precision    recall  f1-score   support\n",
      "\n",
      "           0       0.77      0.58      0.66        62\n",
      "           1       0.66      0.82      0.73        62\n",
      "\n",
      "    accuracy                           0.70       124\n",
      "   macro avg       0.71      0.70      0.70       124\n",
      "weighted avg       0.71      0.70      0.70       124\n",
      "\n"
     ]
    }
   ],
   "source": [
    "print(classification_report(devy, dev_preds))"
   ]
  },
  {
   "cell_type": "markdown",
   "id": "206a9be8",
   "metadata": {},
   "source": [
    "# Random Forest\n",
    "\n",
    "### Train set"
   ]
  },
  {
   "cell_type": "code",
   "execution_count": 80,
   "id": "c32cf254",
   "metadata": {},
   "outputs": [
    {
     "name": "stdout",
     "output_type": "stream",
     "text": [
      "0.9867256637168141\n"
     ]
    }
   ],
   "source": [
    "from sklearn.ensemble import RandomForestClassifier\n",
    "rand_clf = RandomForestClassifier(random_state = 31)\n",
    "rand_clf.fit(x_train, y_train)\n",
    "print(rand_clf.score(x_test, y_test))"
   ]
  },
  {
   "cell_type": "code",
   "execution_count": 81,
   "id": "bae758ec",
   "metadata": {},
   "outputs": [
    {
     "name": "stdout",
     "output_type": "stream",
     "text": [
      "              precision    recall  f1-score   support\n",
      "\n",
      "           0       0.98      0.99      0.99       100\n",
      "           1       0.99      0.98      0.99       126\n",
      "\n",
      "    accuracy                           0.99       226\n",
      "   macro avg       0.99      0.99      0.99       226\n",
      "weighted avg       0.99      0.99      0.99       226\n",
      "\n"
     ]
    }
   ],
   "source": [
    "y_preds = rand_clf.predict(x_test)\n",
    "print(classification_report(y_test, y_preds))"
   ]
  },
  {
   "cell_type": "markdown",
   "id": "2120080d",
   "metadata": {},
   "source": [
    "### dev set (to test overfitting)"
   ]
  },
  {
   "cell_type": "code",
   "execution_count": 82,
   "id": "a5435a55",
   "metadata": {},
   "outputs": [
    {
     "data": {
      "text/plain": [
       "0.9758064516129032"
      ]
     },
     "execution_count": 82,
     "metadata": {},
     "output_type": "execute_result"
    }
   ],
   "source": [
    "dev_preds = rand_clf.predict(devx)\n",
    "rand_clf.score(devx, devy)"
   ]
  },
  {
   "cell_type": "code",
   "execution_count": 83,
   "id": "5a7fa0fa",
   "metadata": {},
   "outputs": [
    {
     "name": "stdout",
     "output_type": "stream",
     "text": [
      "              precision    recall  f1-score   support\n",
      "\n",
      "           0       0.98      0.97      0.98        62\n",
      "           1       0.97      0.98      0.98        62\n",
      "\n",
      "    accuracy                           0.98       124\n",
      "   macro avg       0.98      0.98      0.98       124\n",
      "weighted avg       0.98      0.98      0.98       124\n",
      "\n"
     ]
    }
   ],
   "source": [
    "print(classification_report(devy, dev_preds))"
   ]
  },
  {
   "cell_type": "code",
   "execution_count": 84,
   "id": "72e5e4a5",
   "metadata": {},
   "outputs": [],
   "source": [
    "import pickle"
   ]
  },
  {
   "cell_type": "code",
   "execution_count": 85,
   "id": "51975254",
   "metadata": {},
   "outputs": [],
   "source": [
    "filename=\"trained_heart_model.sav\""
   ]
  },
  {
   "cell_type": "code",
   "execution_count": 86,
   "id": "9843d10c",
   "metadata": {},
   "outputs": [],
   "source": [
    "pickle.dump(rand_clf,open(filename,'wb'))"
   ]
  },
  {
   "cell_type": "code",
   "execution_count": 87,
   "id": "eb02882c",
   "metadata": {},
   "outputs": [],
   "source": [
    "#Loading The Model"
   ]
  },
  {
   "cell_type": "code",
   "execution_count": 88,
   "id": "8e9bc625",
   "metadata": {},
   "outputs": [],
   "source": [
    "loadmodel=pickle.load(open('trained_heart_model.sav','rb'))"
   ]
  },
  {
   "cell_type": "markdown",
   "id": "13762278",
   "metadata": {},
   "source": [
    "Testing output"
   ]
  },
  {
   "cell_type": "code",
   "execution_count": 89,
   "id": "aa430ac2",
   "metadata": {},
   "outputs": [],
   "source": [
    "input_data=(53,1,0,140,203,1,0,155,1,3.1,0,0,3)"
   ]
  },
  {
   "cell_type": "code",
   "execution_count": 90,
   "id": "e2fccc52",
   "metadata": {},
   "outputs": [],
   "source": [
    "numpy_array=np.asarray(input_data)"
   ]
  },
  {
   "cell_type": "code",
   "execution_count": 91,
   "id": "89f66c4a",
   "metadata": {},
   "outputs": [],
   "source": [
    "input_data_reshape=numpy_array.reshape(1,-1)"
   ]
  },
  {
   "cell_type": "code",
   "execution_count": 92,
   "id": "2d583e5f",
   "metadata": {},
   "outputs": [
    {
     "name": "stdout",
     "output_type": "stream",
     "text": [
      "[[ 53.    1.    0.  140.  203.    1.    0.  155.    1.    3.1   0.    0.\n",
      "    3. ]]\n"
     ]
    }
   ],
   "source": [
    "print(input_data_reshape)"
   ]
  },
  {
   "cell_type": "code",
   "execution_count": 93,
   "id": "f7d2bba0",
   "metadata": {},
   "outputs": [
    {
     "name": "stderr",
     "output_type": "stream",
     "text": [
      "c:\\Users\\User\\AppData\\Local\\Programs\\Python\\Python311\\Lib\\site-packages\\sklearn\\base.py:464: UserWarning: X does not have valid feature names, but RandomForestClassifier was fitted with feature names\n",
      "  warnings.warn(\n"
     ]
    }
   ],
   "source": [
    "prediction=loadmodel.predict(input_data_reshape)"
   ]
  },
  {
   "cell_type": "code",
   "execution_count": 94,
   "id": "d73d2862",
   "metadata": {},
   "outputs": [
    {
     "name": "stdout",
     "output_type": "stream",
     "text": [
      "[0]\n"
     ]
    }
   ],
   "source": [
    "print(prediction)"
   ]
  },
  {
   "cell_type": "code",
   "execution_count": 95,
   "id": "7759920a",
   "metadata": {},
   "outputs": [
    {
     "name": "stdout",
     "output_type": "stream",
     "text": [
      "The person does not have heart attack\n"
     ]
    }
   ],
   "source": [
    "if (prediction[0]==0):\n",
    "    print(\"The person does not have heart attack\")\n",
    "else:\n",
    "    print(\"The person have heart attack\")"
   ]
  },
  {
   "cell_type": "code",
   "execution_count": null,
   "id": "4a98b800",
   "metadata": {},
   "outputs": [],
   "source": []
  },
  {
   "cell_type": "code",
   "execution_count": null,
   "id": "fc3d0d34",
   "metadata": {},
   "outputs": [],
   "source": []
  }
 ],
 "metadata": {
  "kernelspec": {
   "display_name": "Python 3",
   "language": "python",
   "name": "python3"
  },
  "language_info": {
   "codemirror_mode": {
    "name": "ipython",
    "version": 3
   },
   "file_extension": ".py",
   "mimetype": "text/x-python",
   "name": "python",
   "nbconvert_exporter": "python",
   "pygments_lexer": "ipython3",
   "version": "3.11.4"
  }
 },
 "nbformat": 4,
 "nbformat_minor": 5
}
